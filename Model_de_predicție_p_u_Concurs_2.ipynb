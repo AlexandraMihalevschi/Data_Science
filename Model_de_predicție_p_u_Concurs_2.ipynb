{
  "nbformat": 4,
  "nbformat_minor": 0,
  "metadata": {
    "colab": {
      "name": "Model de predicție p/u Concurs_2.ipynb",
      "provenance": [],
      "collapsed_sections": [],
      "authorship_tag": "ABX9TyN9XY5EakKqWnbwVN1aO0C1",
      "include_colab_link": true
    },
    "kernelspec": {
      "name": "python3",
      "display_name": "Python 3"
    },
    "language_info": {
      "name": "python"
    }
  },
  "cells": [
    {
      "cell_type": "markdown",
      "metadata": {
        "id": "view-in-github",
        "colab_type": "text"
      },
      "source": [
        "<a href=\"https://colab.research.google.com/github/AlexandraMihalevschi/Data_Science/blob/main/Model_de_predic%C8%9Bie_p_u_Concurs_2.ipynb\" target=\"_parent\"><img src=\"https://colab.research.google.com/assets/colab-badge.svg\" alt=\"Open In Colab\"/></a>"
      ]
    },
    {
      "cell_type": "markdown",
      "metadata": {
        "id": "p_DRrI3Wrjbw"
      },
      "source": [
        "Mai întâi este nevoie să importăm datele și restul de ce avem nevoie"
      ]
    },
    {
      "cell_type": "code",
      "metadata": {
        "id": "I5ciAQvCqeg4"
      },
      "source": [
        "import pandas as pd"
      ],
      "execution_count": null,
      "outputs": []
    },
    {
      "cell_type": "code",
      "metadata": {
        "colab": {
          "base_uri": "https://localhost:8080/"
        },
        "id": "z6GGmneBtAiH",
        "outputId": "8cddc66f-7f0d-498b-b656-7ce7c15f9020"
      },
      "source": [
        "movies = pd.read_csv('https://girlsgoitpublic.z6.web.core.windows.net/movies_train.csv')"
      ],
      "execution_count": null,
      "outputs": [
        {
          "output_type": "stream",
          "text": [
            "/usr/local/lib/python3.7/dist-packages/IPython/core/interactiveshell.py:2718: DtypeWarning: Columns (3) have mixed types.Specify dtype option on import or set low_memory=False.\n",
            "  interactivity=interactivity, compiler=compiler, result=result)\n"
          ],
          "name": "stderr"
        }
      ]
    },
    {
      "cell_type": "code",
      "metadata": {
        "colab": {
          "base_uri": "https://localhost:8080/",
          "height": 1000
        },
        "id": "I_yMI_GWtTZ-",
        "outputId": "6a5b7574-f04e-4d2c-d93c-f3e6c449c0c2"
      },
      "source": [
        "movies"
      ],
      "execution_count": null,
      "outputs": [
        {
          "output_type": "execute_result",
          "data": {
            "text/html": [
              "<div>\n",
              "<style scoped>\n",
              "    .dataframe tbody tr th:only-of-type {\n",
              "        vertical-align: middle;\n",
              "    }\n",
              "\n",
              "    .dataframe tbody tr th {\n",
              "        vertical-align: top;\n",
              "    }\n",
              "\n",
              "    .dataframe thead th {\n",
              "        text-align: right;\n",
              "    }\n",
              "</style>\n",
              "<table border=\"1\" class=\"dataframe\">\n",
              "  <thead>\n",
              "    <tr style=\"text-align: right;\">\n",
              "      <th></th>\n",
              "      <th>movie_id</th>\n",
              "      <th>title</th>\n",
              "      <th>original_title</th>\n",
              "      <th>year</th>\n",
              "      <th>date_published</th>\n",
              "      <th>genre</th>\n",
              "      <th>duration</th>\n",
              "      <th>country</th>\n",
              "      <th>language</th>\n",
              "      <th>director</th>\n",
              "      <th>writer</th>\n",
              "      <th>production_company</th>\n",
              "      <th>actors</th>\n",
              "      <th>description</th>\n",
              "      <th>budget</th>\n",
              "      <th>usa_gross_income</th>\n",
              "      <th>worlwide_gross_income</th>\n",
              "      <th>popularity</th>\n",
              "    </tr>\n",
              "  </thead>\n",
              "  <tbody>\n",
              "    <tr>\n",
              "      <th>0</th>\n",
              "      <td>0</td>\n",
              "      <td>Suéltate el pelo</td>\n",
              "      <td>Suéltate el pelo</td>\n",
              "      <td>1988</td>\n",
              "      <td>1988-07-13</td>\n",
              "      <td>Comedy, Musical</td>\n",
              "      <td>100</td>\n",
              "      <td>Spain</td>\n",
              "      <td>Spanish</td>\n",
              "      <td>Manuel Summers</td>\n",
              "      <td>Francisco Summers, Manuel Summers</td>\n",
              "      <td>Francisco Lara Polop P.C.</td>\n",
              "      <td>David Summers, Daniel Mezquita, Rafael Gutiérr...</td>\n",
              "      <td>NaN</td>\n",
              "      <td>NaN</td>\n",
              "      <td>NaN</td>\n",
              "      <td>NaN</td>\n",
              "      <td>unpopular</td>\n",
              "    </tr>\n",
              "    <tr>\n",
              "      <th>1</th>\n",
              "      <td>1</td>\n",
              "      <td>Mister Johnson</td>\n",
              "      <td>Mister Johnson</td>\n",
              "      <td>1990</td>\n",
              "      <td>1991-06-14</td>\n",
              "      <td>Drama</td>\n",
              "      <td>101</td>\n",
              "      <td>USA</td>\n",
              "      <td>English</td>\n",
              "      <td>Bruce Beresford</td>\n",
              "      <td>William Boyd, Joyce Cary</td>\n",
              "      <td>Avenue Pictures</td>\n",
              "      <td>Maynard Eziashi, Pierce Brosnan, Edward Woodwa...</td>\n",
              "      <td>In 1923, a local resident of British Colonial ...</td>\n",
              "      <td>NaN</td>\n",
              "      <td>$ 1464242</td>\n",
              "      <td>$ 1464242</td>\n",
              "      <td>popular</td>\n",
              "    </tr>\n",
              "    <tr>\n",
              "      <th>2</th>\n",
              "      <td>2</td>\n",
              "      <td>Gelosia</td>\n",
              "      <td>Wife vs. Secretary</td>\n",
              "      <td>1936</td>\n",
              "      <td>1936-02-28</td>\n",
              "      <td>Comedy, Drama, Romance</td>\n",
              "      <td>88</td>\n",
              "      <td>USA</td>\n",
              "      <td>English</td>\n",
              "      <td>Clarence Brown</td>\n",
              "      <td>Norman Krasna, John Lee Mahin</td>\n",
              "      <td>Metro-Goldwyn-Mayer (MGM)</td>\n",
              "      <td>Clark Gable, Jean Harlow, Myrna Loy, May Robso...</td>\n",
              "      <td>The wife of a publishing executive mistakenly ...</td>\n",
              "      <td>$ 519000</td>\n",
              "      <td>NaN</td>\n",
              "      <td>NaN</td>\n",
              "      <td>popular</td>\n",
              "    </tr>\n",
              "    <tr>\n",
              "      <th>3</th>\n",
              "      <td>3</td>\n",
              "      <td>Uno sbirro nella notte</td>\n",
              "      <td>Killing Blue</td>\n",
              "      <td>1988</td>\n",
              "      <td>1988-11-03</td>\n",
              "      <td>Thriller</td>\n",
              "      <td>95</td>\n",
              "      <td>West Germany</td>\n",
              "      <td>English, German</td>\n",
              "      <td>Peter Patzak</td>\n",
              "      <td>Julia Kent, Paul Nicholas</td>\n",
              "      <td>K.S. Film</td>\n",
              "      <td>Armin Mueller-Stahl, Morgan Fairchild, Frank S...</td>\n",
              "      <td>Police Commissioner Alex Glass has been twiste...</td>\n",
              "      <td>NaN</td>\n",
              "      <td>NaN</td>\n",
              "      <td>NaN</td>\n",
              "      <td>unpopular</td>\n",
              "    </tr>\n",
              "    <tr>\n",
              "      <th>4</th>\n",
              "      <td>4</td>\n",
              "      <td>Ride, Ranger, Ride</td>\n",
              "      <td>Ride, Ranger, Ride</td>\n",
              "      <td>1936</td>\n",
              "      <td>1936-09-30</td>\n",
              "      <td>Western</td>\n",
              "      <td>63</td>\n",
              "      <td>USA</td>\n",
              "      <td>English</td>\n",
              "      <td>Joseph Kane</td>\n",
              "      <td>Dorrell McGowan, Stuart E. McGowan</td>\n",
              "      <td>Republic Pictures (I)</td>\n",
              "      <td>Gene Autry, Smiley Burnette, Kay Hughes, Monte...</td>\n",
              "      <td>Gene is a Texas Ranger working under cover to ...</td>\n",
              "      <td>NaN</td>\n",
              "      <td>NaN</td>\n",
              "      <td>NaN</td>\n",
              "      <td>unpopular</td>\n",
              "    </tr>\n",
              "    <tr>\n",
              "      <th>...</th>\n",
              "      <td>...</td>\n",
              "      <td>...</td>\n",
              "      <td>...</td>\n",
              "      <td>...</td>\n",
              "      <td>...</td>\n",
              "      <td>...</td>\n",
              "      <td>...</td>\n",
              "      <td>...</td>\n",
              "      <td>...</td>\n",
              "      <td>...</td>\n",
              "      <td>...</td>\n",
              "      <td>...</td>\n",
              "      <td>...</td>\n",
              "      <td>...</td>\n",
              "      <td>...</td>\n",
              "      <td>...</td>\n",
              "      <td>...</td>\n",
              "      <td>...</td>\n",
              "    </tr>\n",
              "    <tr>\n",
              "      <th>75850</th>\n",
              "      <td>75850</td>\n",
              "      <td>Venom</td>\n",
              "      <td>Venom</td>\n",
              "      <td>2005</td>\n",
              "      <td>2005-09-16</td>\n",
              "      <td>Horror</td>\n",
              "      <td>87</td>\n",
              "      <td>USA</td>\n",
              "      <td>English</td>\n",
              "      <td>Jim Gillespie</td>\n",
              "      <td>Flint Dille, John Zuur Platten</td>\n",
              "      <td>Dimension Films</td>\n",
              "      <td>Agnes Bruckner, Jonathan Jackson, Laura Ramsey...</td>\n",
              "      <td>A group of teenagers fear for their lives in t...</td>\n",
              "      <td>NaN</td>\n",
              "      <td>$ 881779</td>\n",
              "      <td>$ 881779</td>\n",
              "      <td>unpopular</td>\n",
              "    </tr>\n",
              "    <tr>\n",
              "      <th>75851</th>\n",
              "      <td>75851</td>\n",
              "      <td>Chorabali</td>\n",
              "      <td>Chorabali</td>\n",
              "      <td>2016</td>\n",
              "      <td>2016-01-22</td>\n",
              "      <td>Drama, Mystery, Thriller</td>\n",
              "      <td>108</td>\n",
              "      <td>India</td>\n",
              "      <td>Bengali, English</td>\n",
              "      <td>Subhrajit Mitra</td>\n",
              "      <td>Agatha Christie</td>\n",
              "      <td>Angel Digital Private Limited</td>\n",
              "      <td>Barun Chanda, Tanushree Chakraborty, George Ba...</td>\n",
              "      <td>A whodunit thriller set in the backdrop of Nor...</td>\n",
              "      <td>NaN</td>\n",
              "      <td>NaN</td>\n",
              "      <td>NaN</td>\n",
              "      <td>unpopular</td>\n",
              "    </tr>\n",
              "    <tr>\n",
              "      <th>75852</th>\n",
              "      <td>75852</td>\n",
              "      <td>Smugglers' Cove</td>\n",
              "      <td>Smugglers' Cove</td>\n",
              "      <td>1948</td>\n",
              "      <td>1948-10-10</td>\n",
              "      <td>Comedy, Crime</td>\n",
              "      <td>66</td>\n",
              "      <td>USA</td>\n",
              "      <td>English</td>\n",
              "      <td>William Beaudine</td>\n",
              "      <td>Edmond Seward, Tim Ryan</td>\n",
              "      <td>Monogram Pictures</td>\n",
              "      <td>Leo Gorcey, Huntz Hall, Gabriel Dell, Martin K...</td>\n",
              "      <td>Slip mistakenly believes that he has inherited...</td>\n",
              "      <td>NaN</td>\n",
              "      <td>NaN</td>\n",
              "      <td>NaN</td>\n",
              "      <td>popular</td>\n",
              "    </tr>\n",
              "    <tr>\n",
              "      <th>75853</th>\n",
              "      <td>75853</td>\n",
              "      <td>I cacciatori dell'oro</td>\n",
              "      <td>The Spoilers</td>\n",
              "      <td>1942</td>\n",
              "      <td>1942-06-11</td>\n",
              "      <td>Drama, Western</td>\n",
              "      <td>87</td>\n",
              "      <td>USA</td>\n",
              "      <td>English</td>\n",
              "      <td>Ray Enright</td>\n",
              "      <td>Rex Beach, Lawrence Hazard</td>\n",
              "      <td>Universal Pictures</td>\n",
              "      <td>Marlene Dietrich, Randolph Scott, John Wayne, ...</td>\n",
              "      <td>In Nome, Alaska, miner Roy Glennister and his ...</td>\n",
              "      <td>NaN</td>\n",
              "      <td>NaN</td>\n",
              "      <td>NaN</td>\n",
              "      <td>popular</td>\n",
              "    </tr>\n",
              "    <tr>\n",
              "      <th>75854</th>\n",
              "      <td>75854</td>\n",
              "      <td>Peccato veniale</td>\n",
              "      <td>Peccato veniale</td>\n",
              "      <td>1974</td>\n",
              "      <td>1974-01-24</td>\n",
              "      <td>Comedy</td>\n",
              "      <td>96</td>\n",
              "      <td>Italy</td>\n",
              "      <td>Italian</td>\n",
              "      <td>Salvatore Samperi</td>\n",
              "      <td>Salvatore Samperi, Ottavio Jemma</td>\n",
              "      <td>Clesi Cinematografica</td>\n",
              "      <td>Laura Antonelli, Alessandro Momo, Orazio Orlan...</td>\n",
              "      <td>In Versillia's sandy beaches during the summer...</td>\n",
              "      <td>NaN</td>\n",
              "      <td>NaN</td>\n",
              "      <td>NaN</td>\n",
              "      <td>unpopular</td>\n",
              "    </tr>\n",
              "  </tbody>\n",
              "</table>\n",
              "<p>75855 rows × 18 columns</p>\n",
              "</div>"
            ],
            "text/plain": [
              "       movie_id                   title  ... worlwide_gross_income popularity\n",
              "0             0        Suéltate el pelo  ...                   NaN  unpopular\n",
              "1             1          Mister Johnson  ...             $ 1464242    popular\n",
              "2             2                 Gelosia  ...                   NaN    popular\n",
              "3             3  Uno sbirro nella notte  ...                   NaN  unpopular\n",
              "4             4      Ride, Ranger, Ride  ...                   NaN  unpopular\n",
              "...         ...                     ...  ...                   ...        ...\n",
              "75850     75850                   Venom  ...              $ 881779  unpopular\n",
              "75851     75851               Chorabali  ...                   NaN  unpopular\n",
              "75852     75852         Smugglers' Cove  ...                   NaN    popular\n",
              "75853     75853   I cacciatori dell'oro  ...                   NaN    popular\n",
              "75854     75854         Peccato veniale  ...                   NaN  unpopular\n",
              "\n",
              "[75855 rows x 18 columns]"
            ]
          },
          "metadata": {
            "tags": []
          },
          "execution_count": 165
        }
      ]
    },
    {
      "cell_type": "code",
      "metadata": {
        "colab": {
          "base_uri": "https://localhost:8080/"
        },
        "id": "ClBC150rt978",
        "outputId": "6757de5d-d1ce-4b05-d07d-4fe9685551c3"
      },
      "source": [
        "mov = movies.dropna()\n",
        "mov.loc['year'] = mov['year'].astype('int')"
      ],
      "execution_count": null,
      "outputs": [
        {
          "output_type": "stream",
          "text": [
            "/usr/local/lib/python3.7/dist-packages/pandas/core/indexing.py:670: SettingWithCopyWarning: \n",
            "A value is trying to be set on a copy of a slice from a DataFrame\n",
            "\n",
            "See the caveats in the documentation: https://pandas.pydata.org/pandas-docs/stable/user_guide/indexing.html#returning-a-view-versus-a-copy\n",
            "  iloc._setitem_with_indexer(indexer, value)\n"
          ],
          "name": "stderr"
        }
      ]
    },
    {
      "cell_type": "code",
      "metadata": {
        "colab": {
          "base_uri": "https://localhost:8080/"
        },
        "id": "Nh_va2nGxdH7",
        "outputId": "9b789272-2eb7-4f55-d672-af79ead5cb76"
      },
      "source": [
        "mov['budget'].value_counts()"
      ],
      "execution_count": null,
      "outputs": [
        {
          "output_type": "execute_result",
          "data": {
            "text/plain": [
              "$ 10000000     249\n",
              "$ 20000000     243\n",
              "$ 15000000     220\n",
              "$ 30000000     207\n",
              "$ 25000000     207\n",
              "              ... \n",
              "CAD 2800000      1\n",
              "DEM 800000       1\n",
              "AUD 3992880      1\n",
              "$ 1650000        1\n",
              "$ 217000000      1\n",
              "Name: budget, Length: 999, dtype: int64"
            ]
          },
          "metadata": {
            "tags": []
          },
          "execution_count": 167
        }
      ]
    },
    {
      "cell_type": "code",
      "metadata": {
        "colab": {
          "base_uri": "https://localhost:8080/"
        },
        "id": "33zGmC8LyHEb",
        "outputId": "c1436398-4402-4e2a-f304-a8065c2ea1e4"
      },
      "source": [
        "mov['budget'] = mov['budget'].str.replace('$', '')"
      ],
      "execution_count": null,
      "outputs": [
        {
          "output_type": "stream",
          "text": [
            "/usr/local/lib/python3.7/dist-packages/ipykernel_launcher.py:1: SettingWithCopyWarning: \n",
            "A value is trying to be set on a copy of a slice from a DataFrame.\n",
            "Try using .loc[row_indexer,col_indexer] = value instead\n",
            "\n",
            "See the caveats in the documentation: https://pandas.pydata.org/pandas-docs/stable/user_guide/indexing.html#returning-a-view-versus-a-copy\n",
            "  \"\"\"Entry point for launching an IPython kernel.\n"
          ],
          "name": "stderr"
        }
      ]
    },
    {
      "cell_type": "code",
      "metadata": {
        "colab": {
          "base_uri": "https://localhost:8080/"
        },
        "id": "CWZi6T7fdlBj",
        "outputId": "9470c3ca-d02f-40bc-ebf1-94e3636bff34"
      },
      "source": [
        "mov['budget'].value_counts()"
      ],
      "execution_count": null,
      "outputs": [
        {
          "output_type": "execute_result",
          "data": {
            "text/plain": [
              " 10000000     249\n",
              " 20000000     243\n",
              " 15000000     220\n",
              " 25000000     207\n",
              " 30000000     207\n",
              "             ... \n",
              " 25500000       1\n",
              "EUR 100000      1\n",
              " 320000         1\n",
              " 270000000      1\n",
              " 15700000       1\n",
              "Name: budget, Length: 999, dtype: int64"
            ]
          },
          "metadata": {
            "tags": []
          },
          "execution_count": 169
        }
      ]
    },
    {
      "cell_type": "code",
      "metadata": {
        "colab": {
          "base_uri": "https://localhost:8080/"
        },
        "id": "ahVBXiQcfsbh",
        "outputId": "b5c1a183-269d-467d-bffd-173ef6d2195d"
      },
      "source": [
        "mov['budget'] = pd.to_numeric(mov['budget'], errors='coerce')"
      ],
      "execution_count": null,
      "outputs": [
        {
          "output_type": "stream",
          "text": [
            "/usr/local/lib/python3.7/dist-packages/ipykernel_launcher.py:1: SettingWithCopyWarning: \n",
            "A value is trying to be set on a copy of a slice from a DataFrame.\n",
            "Try using .loc[row_indexer,col_indexer] = value instead\n",
            "\n",
            "See the caveats in the documentation: https://pandas.pydata.org/pandas-docs/stable/user_guide/indexing.html#returning-a-view-versus-a-copy\n",
            "  \"\"\"Entry point for launching an IPython kernel.\n"
          ],
          "name": "stderr"
        }
      ]
    },
    {
      "cell_type": "code",
      "metadata": {
        "colab": {
          "base_uri": "https://localhost:8080/"
        },
        "id": "OAic2jOWgKA_",
        "outputId": "460c1264-fdc2-4c02-ee2d-dc7e151c0b98"
      },
      "source": [
        "mov = mov.dropna(subset=['budget'])\n",
        "mov['budget']"
      ],
      "execution_count": null,
      "outputs": [
        {
          "output_type": "execute_result",
          "data": {
            "text/plain": [
              "42       48000000.0\n",
              "72         650000.0\n",
              "79        6400000.0\n",
              "82       14000000.0\n",
              "96       25000000.0\n",
              "            ...    \n",
              "75781    13000000.0\n",
              "75799    30000000.0\n",
              "75817    15000000.0\n",
              "75820    35000000.0\n",
              "75847    10000000.0\n",
              "Name: budget, Length: 6367, dtype: float64"
            ]
          },
          "metadata": {
            "tags": []
          },
          "execution_count": 171
        }
      ]
    },
    {
      "cell_type": "code",
      "metadata": {
        "colab": {
          "base_uri": "https://localhost:8080/"
        },
        "id": "Q4QqcwVRyENI",
        "outputId": "4b2ca1c4-54ec-4028-f74b-ddf8bfcd8dfb"
      },
      "source": [
        "# mov['budget'] = mov['budget'].astype('int')\n",
        "mov.info()"
      ],
      "execution_count": null,
      "outputs": [
        {
          "output_type": "stream",
          "text": [
            "<class 'pandas.core.frame.DataFrame'>\n",
            "Index: 6367 entries, 42 to 75847\n",
            "Data columns (total 18 columns):\n",
            " #   Column                 Non-Null Count  Dtype  \n",
            "---  ------                 --------------  -----  \n",
            " 0   movie_id               6367 non-null   float64\n",
            " 1   title                  6367 non-null   object \n",
            " 2   original_title         6367 non-null   object \n",
            " 3   year                   6367 non-null   object \n",
            " 4   date_published         6367 non-null   object \n",
            " 5   genre                  6367 non-null   object \n",
            " 6   duration               6367 non-null   float64\n",
            " 7   country                6367 non-null   object \n",
            " 8   language               6367 non-null   object \n",
            " 9   director               6367 non-null   object \n",
            " 10  writer                 6367 non-null   object \n",
            " 11  production_company     6367 non-null   object \n",
            " 12  actors                 6367 non-null   object \n",
            " 13  description            6367 non-null   object \n",
            " 14  budget                 6367 non-null   float64\n",
            " 15  usa_gross_income       6367 non-null   object \n",
            " 16  worlwide_gross_income  6367 non-null   object \n",
            " 17  popularity             6367 non-null   object \n",
            "dtypes: float64(3), object(15)\n",
            "memory usage: 1.2+ MB\n"
          ],
          "name": "stdout"
        }
      ]
    },
    {
      "cell_type": "code",
      "metadata": {
        "id": "mCEAt38fKegZ"
      },
      "source": [
        "from sklearn.model_selection import train_test_split\n",
        "\n",
        "X=mov[['budget', 'year', 'duration']] \n",
        "y=mov['popularity']  \n",
        "\n",
        "# Divizăm datasetul în setul de antrenament și cel pentru testare\n",
        "X_train, X_test, y_train, y_test = train_test_split(X, y, test_size=0.3)"
      ],
      "execution_count": null,
      "outputs": []
    },
    {
      "cell_type": "code",
      "metadata": {
        "id": "E4WWZNKpwskv"
      },
      "source": [
        "#parameters = ['year', 'duration']"
      ],
      "execution_count": null,
      "outputs": []
    },
    {
      "cell_type": "code",
      "metadata": {
        "id": "hX_6JcXrxtLO"
      },
      "source": [
        "import seaborn as sns\n",
        "import matplotlib.pyplot as plt\n",
        "\n",
        "#sns.kdeplot(data=mov, x='year', hue=\"popularity\")"
      ],
      "execution_count": null,
      "outputs": []
    },
    {
      "cell_type": "code",
      "metadata": {
        "id": "c8l5kvoEyrAP"
      },
      "source": [
        "#X = mov[parameters]\n",
        "#y = mov['popularity']"
      ],
      "execution_count": null,
      "outputs": []
    },
    {
      "cell_type": "code",
      "metadata": {
        "id": "jXlikF3vzfq7"
      },
      "source": [
        "#mov = mov.sample(frac=1)"
      ],
      "execution_count": null,
      "outputs": []
    },
    {
      "cell_type": "code",
      "metadata": {
        "id": "zfkxQdH6zDX1"
      },
      "source": [
        "#from sklearn.model_selection import train_test_split\n",
        "\n",
        "#X_train, X_test, y_train, y_test = train_test_split(X, y, test_size=0.4, random_state = 42)"
      ],
      "execution_count": null,
      "outputs": []
    },
    {
      "cell_type": "code",
      "metadata": {
        "id": "4AAm49HCzKpB"
      },
      "source": [
        "#from sklearn.tree import DecisionTreeClassifier"
      ],
      "execution_count": null,
      "outputs": []
    },
    {
      "cell_type": "code",
      "metadata": {
        "id": "5EaISRiuoiWz"
      },
      "source": [
        "from sklearn.ensemble import AdaBoostClassifier\n",
        "from sklearn.ensemble import BaggingClassifier\n",
        "from sklearn.ensemble import GradientBoostingClassifier"
      ],
      "execution_count": null,
      "outputs": []
    },
    {
      "cell_type": "code",
      "metadata": {
        "id": "7bvk5Y_5XF1a"
      },
      "source": [
        "from sklearn.ensemble import RandomForestClassifier\n",
        "\n",
        "#Creăm clasificatorul RandomForest\n",
        "clf=RandomForestClassifier(n_estimators=100,bootstrap=True, ccp_alpha=0.0, class_weight=None,\n",
        "                       criterion='gini', max_depth=7, max_features='auto',\n",
        "                       max_leaf_nodes=None, max_samples=None,\n",
        "                       min_impurity_decrease=0.0, min_impurity_split=None,\n",
        "                       min_samples_leaf=1, min_samples_split=2,\n",
        "                       min_weight_fraction_leaf=0.0,n_jobs=None, oob_score=False, random_state=None,\n",
        "                       verbose=0, warm_start=False)\n",
        "#RandomForestClassifier(n_estimators=100)\n",
        "\"\"\"(bootstrap=True, ccp_alpha=0.0, class_weight=None,\n",
        "                       criterion='gini', max_depth=5, max_features='auto',\n",
        "                       max_leaf_nodes=None, max_samples=None,\n",
        "                       min_impurity_decrease=0.0, min_impurity_split=None,\n",
        "                       min_samples_leaf=1, min_samples_split=2,\n",
        "                       min_weight_fraction_leaf=0.0, n_estimators=150,\n",
        "                       n_jobs=None, oob_score=False, random_state=None,\n",
        "                       verbose=0, warm_start=False\n",
        "\"\"\"\n",
        "\n",
        "#Antrenăm modelul pe datele noastre\n",
        "clf.fit(X_train,y_train)\n",
        "\n",
        "#Stocăm valoarea prezicerilor într-o variabilă \n",
        "y_pred=clf.predict(X_test)"
      ],
      "execution_count": null,
      "outputs": []
    },
    {
      "cell_type": "code",
      "metadata": {
        "id": "A4jf8OVYzqWo"
      },
      "source": [
        "#clf = DecisionTreeClassifier(criterion= 'entropy')  "
      ],
      "execution_count": null,
      "outputs": []
    },
    {
      "cell_type": "code",
      "metadata": {
        "id": "xf0lbglazvKQ"
      },
      "source": [
        "#clf.fit(X_train, y_train)"
      ],
      "execution_count": null,
      "outputs": []
    },
    {
      "cell_type": "code",
      "metadata": {
        "id": "PqZqVBs2z5tP",
        "colab": {
          "base_uri": "https://localhost:8080/",
          "height": 89
        },
        "outputId": "6dd4ad4d-5a2c-48d3-b866-fc57a6f30c60"
      },
      "source": [
        "\"\"\"\n",
        "from sklearn.tree import export_graphviz\n",
        "from sklearn.externals.six import StringIO  \n",
        "from IPython.display import Image  \n",
        "import pydotplus\n",
        "\n",
        "dot_data = StringIO()\n",
        "export_graphviz(clf, out_file=dot_data,  \n",
        "                filled=True, rounded=True,\n",
        "                special_characters=True,feature_names = X.columns,\n",
        "                class_names=['Popular' ,'Unpopular'])\n",
        "graph = pydotplus.graph_from_dot_data(dot_data.getvalue())  \n",
        "graph.write_png('diabetes.png')\n",
        "Image(graph.create_png())\n",
        "\"\"\""
      ],
      "execution_count": null,
      "outputs": [
        {
          "output_type": "execute_result",
          "data": {
            "application/vnd.google.colaboratory.intrinsic+json": {
              "type": "string"
            },
            "text/plain": [
              "\"\\nfrom sklearn.tree import export_graphviz\\nfrom sklearn.externals.six import StringIO  \\nfrom IPython.display import Image  \\nimport pydotplus\\n\\ndot_data = StringIO()\\nexport_graphviz(clf, out_file=dot_data,  \\n                filled=True, rounded=True,\\n                special_characters=True,feature_names = X.columns,\\n                class_names=['Popular' ,'Unpopular'])\\ngraph = pydotplus.graph_from_dot_data(dot_data.getvalue())  \\ngraph.write_png('diabetes.png')\\nImage(graph.create_png())\\n\""
            ]
          },
          "metadata": {
            "tags": []
          },
          "execution_count": 364
        }
      ]
    },
    {
      "cell_type": "code",
      "metadata": {
        "id": "Z3kziPPZ0jEX"
      },
      "source": [
        "#y_predict = clf.predict(X_test)"
      ],
      "execution_count": null,
      "outputs": []
    },
    {
      "cell_type": "code",
      "metadata": {
        "id": "J2gPzhIq0st6",
        "colab": {
          "base_uri": "https://localhost:8080/"
        },
        "outputId": "76c05954-b5b3-4928-ea49-dfe8cf3fb046"
      },
      "source": [
        "y_pred"
      ],
      "execution_count": null,
      "outputs": [
        {
          "output_type": "execute_result",
          "data": {
            "text/plain": [
              "array(['popular', 'popular', 'popular', ..., 'popular', 'popular',\n",
              "       'popular'], dtype=object)"
            ]
          },
          "metadata": {
            "tags": []
          },
          "execution_count": 413
        }
      ]
    },
    {
      "cell_type": "code",
      "metadata": {
        "id": "tZ3n9j8d0wgx",
        "colab": {
          "base_uri": "https://localhost:8080/"
        },
        "outputId": "a5e72aba-3090-4cfc-d66c-3c5ab73d1042"
      },
      "source": [
        "y_test"
      ],
      "execution_count": null,
      "outputs": [
        {
          "output_type": "execute_result",
          "data": {
            "text/plain": [
              "19243    unpopular\n",
              "7880       popular\n",
              "28284      popular\n",
              "9831       popular\n",
              "22669      popular\n",
              "           ...    \n",
              "55073      popular\n",
              "38968      popular\n",
              "14173      popular\n",
              "50139      popular\n",
              "28787      popular\n",
              "Name: popularity, Length: 1911, dtype: object"
            ]
          },
          "metadata": {
            "tags": []
          },
          "execution_count": 414
        }
      ]
    },
    {
      "cell_type": "code",
      "metadata": {
        "id": "lnH4DPso09Wj"
      },
      "source": [
        "#df_test_predict = pd.DataFrame({'y_test': y_test, 'y_predict' : y_predict})\n",
        "#df_test_predict"
      ],
      "execution_count": null,
      "outputs": []
    },
    {
      "cell_type": "code",
      "metadata": {
        "id": "sVAYAebz1BOG"
      },
      "source": [
        "from sklearn.metrics import accuracy_score, f1_score, recall_score, precision_score"
      ],
      "execution_count": null,
      "outputs": []
    },
    {
      "cell_type": "code",
      "metadata": {
        "id": "Op2uxxD01PwS",
        "colab": {
          "base_uri": "https://localhost:8080/"
        },
        "outputId": "d8edd79f-ad45-424d-a5f6-ea425b195d13"
      },
      "source": [
        "accuracy_score(y_test, y_pred)"
      ],
      "execution_count": null,
      "outputs": [
        {
          "output_type": "execute_result",
          "data": {
            "text/plain": [
              "0.673992673992674"
            ]
          },
          "metadata": {
            "tags": []
          },
          "execution_count": 416
        }
      ]
    },
    {
      "cell_type": "code",
      "metadata": {
        "id": "JhBtiQeL1Vim",
        "colab": {
          "base_uri": "https://localhost:8080/"
        },
        "outputId": "94ad96ff-83cf-4a48-a34b-fd9898174051"
      },
      "source": [
        "precision_score(y_test, y_pred, pos_label='popular')"
      ],
      "execution_count": null,
      "outputs": [
        {
          "output_type": "execute_result",
          "data": {
            "text/plain": [
              "0.7120894479385046"
            ]
          },
          "metadata": {
            "tags": []
          },
          "execution_count": 417
        }
      ]
    },
    {
      "cell_type": "code",
      "metadata": {
        "id": "pYEAUqkV1hR8",
        "colab": {
          "base_uri": "https://localhost:8080/"
        },
        "outputId": "f120e98b-dd92-4edd-89c3-62051abbf0fa"
      },
      "source": [
        "recall_score(y_test, y_pred, pos_label='popular')"
      ],
      "execution_count": null,
      "outputs": [
        {
          "output_type": "execute_result",
          "data": {
            "text/plain": [
              "0.8284552845528456"
            ]
          },
          "metadata": {
            "tags": []
          },
          "execution_count": 418
        }
      ]
    },
    {
      "cell_type": "code",
      "metadata": {
        "id": "hzVEKiUk12bx",
        "colab": {
          "base_uri": "https://localhost:8080/"
        },
        "outputId": "1dc4120a-ff8b-4025-efac-f8475fbee55b"
      },
      "source": [
        "f1_score(y_test, y_pred, pos_label='popular')"
      ],
      "execution_count": null,
      "outputs": [
        {
          "output_type": "execute_result",
          "data": {
            "text/plain": [
              "0.7658774896655393"
            ]
          },
          "metadata": {
            "tags": []
          },
          "execution_count": 419
        }
      ]
    },
    {
      "cell_type": "code",
      "metadata": {
        "id": "X09TsjDD2QET"
      },
      "source": [
        "from sklearn.metrics import confusion_matrix"
      ],
      "execution_count": null,
      "outputs": []
    },
    {
      "cell_type": "code",
      "metadata": {
        "id": "5TVGD6Au2eSN"
      },
      "source": [
        "conf_mx = confusion_matrix(y_test, y_pred)"
      ],
      "execution_count": null,
      "outputs": []
    },
    {
      "cell_type": "code",
      "metadata": {
        "id": "J1ERnSDw2hrR",
        "colab": {
          "base_uri": "https://localhost:8080/",
          "height": 295
        },
        "outputId": "8a9cd0f9-14e0-4c45-c978-d4da06816eb9"
      },
      "source": [
        "ax = sns.heatmap(conf_mx, annot=True, fmt=\"d\", cbar=False)\n",
        "ax.xaxis.tick_top()\n",
        "ax.xaxis.set_label_position('top')\n",
        "ax.set_xlabel('Actual values')\n",
        "ax.set_ylabel('Predicted values')\n",
        "plt.yticks(rotation=0)"
      ],
      "execution_count": null,
      "outputs": [
        {
          "output_type": "execute_result",
          "data": {
            "text/plain": [
              "(array([0.5, 1.5]), <a list of 2 Text major ticklabel objects>)"
            ]
          },
          "metadata": {
            "tags": []
          },
          "execution_count": 422
        },
        {
          "output_type": "display_data",
          "data": {
            "image/png": "[encoded data removed]",
            "text/plain": [
              "<Figure size 432x288 with 1 Axes>"
            ]
          },
          "metadata": {
            "tags": [],
            "needs_background": "light"
          }
        }
      ]
    },
    {
      "cell_type": "code",
      "metadata": {
        "id": "-50KKY8mcXcL"
      },
      "source": [
        "y_train_predict = clf.predict(X_train)"
      ],
      "execution_count": null,
      "outputs": []
    },
    {
      "cell_type": "code",
      "metadata": {
        "id": "hMf90ZR1lCws",
        "colab": {
          "base_uri": "https://localhost:8080/"
        },
        "outputId": "d79b93c6-78e9-4e7d-eec1-cd1079d584e2"
      },
      "source": [
        "accuracy_score(y_train, y_train_predict)"
      ],
      "execution_count": null,
      "outputs": [
        {
          "output_type": "execute_result",
          "data": {
            "text/plain": [
              "0.7221723518850988"
            ]
          },
          "metadata": {
            "tags": []
          },
          "execution_count": 424
        }
      ]
    },
    {
      "cell_type": "code",
      "metadata": {
        "id": "c8UWKLj1mL4M"
      },
      "source": [
        "from sklearn.model_selection import cross_val_score"
      ],
      "execution_count": null,
      "outputs": []
    },
    {
      "cell_type": "code",
      "metadata": {
        "id": "MpQn294SoFXm",
        "colab": {
          "base_uri": "https://localhost:8080/"
        },
        "outputId": "e34a3424-66d7-4663-c967-bbe76fc7fd91"
      },
      "source": [
        "acc = cross_val_score(clf, X, y, cv = 5, scoring='accuracy')\n",
        "print(acc)\n",
        "print()\n",
        "print('Mean:', acc.mean())\n",
        "print()\n",
        "print('Std:', acc.std())"
      ],
      "execution_count": null,
      "outputs": [
        {
          "output_type": "stream",
          "text": [
            "[0.6978022  0.68838305 0.68263943 0.67714061 0.67556952]\n",
            "\n",
            "Mean: 0.6843069622555651\n",
            "\n",
            "Std: 0.008114381490747155\n"
          ],
          "name": "stdout"
        }
      ]
    },
    {
      "cell_type": "code",
      "metadata": {
        "id": "CikdafQ1CkS5"
      },
      "source": [
        "#from sklearn.model_selection import GridSearchCV"
      ],
      "execution_count": null,
      "outputs": []
    },
    {
      "cell_type": "code",
      "metadata": {
        "id": "9NMkVbaCDaOW"
      },
      "source": [
        "#parameters = {'n_estimators': [50, 60, 70, 80, 90, 100, 120, 150],\n",
        "#              'max_depth': [3, 4, 5, 6, 7]}"
      ],
      "execution_count": null,
      "outputs": []
    },
    {
      "cell_type": "code",
      "metadata": {
        "id": "RpUz9K3_Dd2o"
      },
      "source": [
        "#gscv = GridSearchCV(clf, parameters)"
      ],
      "execution_count": null,
      "outputs": []
    },
    {
      "cell_type": "code",
      "metadata": {
        "id": "CD_oGqgrDmdl"
      },
      "source": [
        "#gscv.fit(X_train,y_train)"
      ],
      "execution_count": null,
      "outputs": []
    },
    {
      "cell_type": "code",
      "metadata": {
        "id": "Co1vZUFPDtqE"
      },
      "source": [
        "#gscv.best_score_"
      ],
      "execution_count": null,
      "outputs": []
    },
    {
      "cell_type": "code",
      "metadata": {
        "id": "Y1CKaezCDwFe"
      },
      "source": [
        "#gscv.best_estimator_"
      ],
      "execution_count": null,
      "outputs": []
    },
    {
      "cell_type": "code",
      "metadata": {
        "id": "3fENnu8gDm6f"
      },
      "source": [
        ""
      ],
      "execution_count": null,
      "outputs": []
    },
    {
      "cell_type": "code",
      "metadata": {
        "id": "A44C08Ro38Xb"
      },
      "source": [
        "test = pd.read_csv('https://girlsgoitpublic.z6.web.core.windows.net/movies_test.csv')"
      ],
      "execution_count": null,
      "outputs": []
    },
    {
      "cell_type": "code",
      "metadata": {
        "id": "X6oKbNM_4Jt2",
        "colab": {
          "base_uri": "https://localhost:8080/",
          "height": 1000
        },
        "outputId": "9ebc5d6d-1e88-4b8f-d481-f07cd7f0bb86"
      },
      "source": [
        "test"
      ],
      "execution_count": null,
      "outputs": [
        {
          "output_type": "execute_result",
          "data": {
            "text/html": [
              "<div>\n",
              "<style scoped>\n",
              "    .dataframe tbody tr th:only-of-type {\n",
              "        vertical-align: middle;\n",
              "    }\n",
              "\n",
              "    .dataframe tbody tr th {\n",
              "        vertical-align: top;\n",
              "    }\n",
              "\n",
              "    .dataframe thead th {\n",
              "        text-align: right;\n",
              "    }\n",
              "</style>\n",
              "<table border=\"1\" class=\"dataframe\">\n",
              "  <thead>\n",
              "    <tr style=\"text-align: right;\">\n",
              "      <th></th>\n",
              "      <th>movie_id</th>\n",
              "      <th>title</th>\n",
              "      <th>original_title</th>\n",
              "      <th>year</th>\n",
              "      <th>date_published</th>\n",
              "      <th>genre</th>\n",
              "      <th>duration</th>\n",
              "      <th>country</th>\n",
              "      <th>language</th>\n",
              "      <th>director</th>\n",
              "      <th>writer</th>\n",
              "      <th>production_company</th>\n",
              "      <th>actors</th>\n",
              "      <th>description</th>\n",
              "      <th>budget</th>\n",
              "      <th>usa_gross_income</th>\n",
              "      <th>worlwide_gross_income</th>\n",
              "    </tr>\n",
              "  </thead>\n",
              "  <tbody>\n",
              "    <tr>\n",
              "      <th>0</th>\n",
              "      <td>0</td>\n",
              "      <td>Familia</td>\n",
              "      <td>Familia</td>\n",
              "      <td>2005</td>\n",
              "      <td>2006-08-09</td>\n",
              "      <td>Drama</td>\n",
              "      <td>102</td>\n",
              "      <td>Canada</td>\n",
              "      <td>French</td>\n",
              "      <td>Louise Archambault</td>\n",
              "      <td>Louise Archambault</td>\n",
              "      <td>micro_scope</td>\n",
              "      <td>Sylvie Moreau, Macha Grenon, Juliette Gosselin...</td>\n",
              "      <td>This emotionally-charged story of mothers and ...</td>\n",
              "      <td>NaN</td>\n",
              "      <td>NaN</td>\n",
              "      <td>$ 2365</td>\n",
              "    </tr>\n",
              "    <tr>\n",
              "      <th>1</th>\n",
              "      <td>1</td>\n",
              "      <td>Macondo</td>\n",
              "      <td>Macondo</td>\n",
              "      <td>2014</td>\n",
              "      <td>2014-11-14</td>\n",
              "      <td>Drama</td>\n",
              "      <td>98</td>\n",
              "      <td>Austria</td>\n",
              "      <td>German, Chechen, Arabic</td>\n",
              "      <td>Sudabeh Mortezai</td>\n",
              "      <td>Sudabeh Mortezai</td>\n",
              "      <td>FreibeuterFilm</td>\n",
              "      <td>Ramasan Minkailov, Aslan Elbiev, Kheda Gazieva...</td>\n",
              "      <td>An 11-year-old Chechnyan refugee living in Vie...</td>\n",
              "      <td>NaN</td>\n",
              "      <td>NaN</td>\n",
              "      <td>$ 46300</td>\n",
              "    </tr>\n",
              "    <tr>\n",
              "      <th>2</th>\n",
              "      <td>2</td>\n",
              "      <td>Miles from Home</td>\n",
              "      <td>Miles from Home</td>\n",
              "      <td>2006</td>\n",
              "      <td>2006-02-01</td>\n",
              "      <td>Drama</td>\n",
              "      <td>97</td>\n",
              "      <td>USA</td>\n",
              "      <td>English</td>\n",
              "      <td>Ty Hodges</td>\n",
              "      <td>Ty Hodges</td>\n",
              "      <td>Lab 601</td>\n",
              "      <td>Erik Aude, Taisha Monique Clark, Amy Correa, M...</td>\n",
              "      <td>Plagued by bad influences, bad choices and bad...</td>\n",
              "      <td>NaN</td>\n",
              "      <td>NaN</td>\n",
              "      <td>NaN</td>\n",
              "    </tr>\n",
              "    <tr>\n",
              "      <th>3</th>\n",
              "      <td>3</td>\n",
              "      <td>Maz swojej zony</td>\n",
              "      <td>Maz swojej zony</td>\n",
              "      <td>1961</td>\n",
              "      <td>1961-04-04</td>\n",
              "      <td>Comedy</td>\n",
              "      <td>94</td>\n",
              "      <td>Poland</td>\n",
              "      <td>Polish</td>\n",
              "      <td>Stanislaw Bareja</td>\n",
              "      <td>Stanislaw Bareja, Jerzy Jurandot</td>\n",
              "      <td>P.P. Film Polski</td>\n",
              "      <td>Bronislaw Pawlik, Aleksandra Zawieruszanka, Mi...</td>\n",
              "      <td>NaN</td>\n",
              "      <td>NaN</td>\n",
              "      <td>NaN</td>\n",
              "      <td>NaN</td>\n",
              "    </tr>\n",
              "    <tr>\n",
              "      <th>4</th>\n",
              "      <td>4</td>\n",
              "      <td>Marutai no onna</td>\n",
              "      <td>Marutai no onna</td>\n",
              "      <td>1997</td>\n",
              "      <td>1997-09-27</td>\n",
              "      <td>Comedy, Crime, Drama</td>\n",
              "      <td>131</td>\n",
              "      <td>Japan</td>\n",
              "      <td>Japanese</td>\n",
              "      <td>Jûzô Itami</td>\n",
              "      <td>Jûzô Itami</td>\n",
              "      <td>Itami Productions</td>\n",
              "      <td>Nobuko Miyamoto, Masahiko Nishimura, Yuji Mura...</td>\n",
              "      <td>A vain actress who witnessed a serious crime i...</td>\n",
              "      <td>NaN</td>\n",
              "      <td>NaN</td>\n",
              "      <td>NaN</td>\n",
              "    </tr>\n",
              "    <tr>\n",
              "      <th>...</th>\n",
              "      <td>...</td>\n",
              "      <td>...</td>\n",
              "      <td>...</td>\n",
              "      <td>...</td>\n",
              "      <td>...</td>\n",
              "      <td>...</td>\n",
              "      <td>...</td>\n",
              "      <td>...</td>\n",
              "      <td>...</td>\n",
              "      <td>...</td>\n",
              "      <td>...</td>\n",
              "      <td>...</td>\n",
              "      <td>...</td>\n",
              "      <td>...</td>\n",
              "      <td>...</td>\n",
              "      <td>...</td>\n",
              "      <td>...</td>\n",
              "    </tr>\n",
              "    <tr>\n",
              "      <th>9995</th>\n",
              "      <td>9995</td>\n",
              "      <td>The Unseen</td>\n",
              "      <td>The Unseen</td>\n",
              "      <td>2005</td>\n",
              "      <td>2005-09-24</td>\n",
              "      <td>Drama</td>\n",
              "      <td>99</td>\n",
              "      <td>USA</td>\n",
              "      <td>English</td>\n",
              "      <td>Lisa France</td>\n",
              "      <td>Lisa France</td>\n",
              "      <td>Luis Moro Productions</td>\n",
              "      <td>Steve Harris, Gale Harold, Phillip Bloch, Cath...</td>\n",
              "      <td>A film by Lisa France. A Luis Moro Production....</td>\n",
              "      <td>NaN</td>\n",
              "      <td>NaN</td>\n",
              "      <td>NaN</td>\n",
              "    </tr>\n",
              "    <tr>\n",
              "      <th>9996</th>\n",
              "      <td>9996</td>\n",
              "      <td>Duplicity</td>\n",
              "      <td>Duplicity</td>\n",
              "      <td>2009</td>\n",
              "      <td>2009-04-10</td>\n",
              "      <td>Comedy, Crime, Romance</td>\n",
              "      <td>125</td>\n",
              "      <td>USA, Germany</td>\n",
              "      <td>English, Spanish, Russian, German</td>\n",
              "      <td>Tony Gilroy</td>\n",
              "      <td>Tony Gilroy</td>\n",
              "      <td>Universal Pictures</td>\n",
              "      <td>Clive Owen, Julia Roberts, Tom Wilkinson, Paul...</td>\n",
              "      <td>Two ex-government agents turned rival industri...</td>\n",
              "      <td>$ 60000000</td>\n",
              "      <td>$ 40572825</td>\n",
              "      <td>$ 78176181</td>\n",
              "    </tr>\n",
              "    <tr>\n",
              "      <th>9997</th>\n",
              "      <td>9997</td>\n",
              "      <td>Mektup</td>\n",
              "      <td>Mektup</td>\n",
              "      <td>1997</td>\n",
              "      <td>1997-09-26</td>\n",
              "      <td>Drama</td>\n",
              "      <td>100</td>\n",
              "      <td>Turkey</td>\n",
              "      <td>Turkish</td>\n",
              "      <td>Ali Özgentürk</td>\n",
              "      <td>Ali Özgentürk</td>\n",
              "      <td>NaN</td>\n",
              "      <td>Tarik Akan, Necdet Mahfi Ayral, Ihsan Bilsel, ...</td>\n",
              "      <td>A man researches the death of his political ac...</td>\n",
              "      <td>NaN</td>\n",
              "      <td>NaN</td>\n",
              "      <td>NaN</td>\n",
              "    </tr>\n",
              "    <tr>\n",
              "      <th>9998</th>\n",
              "      <td>9998</td>\n",
              "      <td>Il matrimonio che vorrei</td>\n",
              "      <td>Hope Springs</td>\n",
              "      <td>2012</td>\n",
              "      <td>2012-10-18</td>\n",
              "      <td>Comedy, Drama, Romance</td>\n",
              "      <td>100</td>\n",
              "      <td>USA, Canada</td>\n",
              "      <td>English</td>\n",
              "      <td>David Frankel</td>\n",
              "      <td>Vanessa Taylor</td>\n",
              "      <td>Columbia Pictures</td>\n",
              "      <td>Meryl Streep, Tommy Lee Jones, Steve Carell, J...</td>\n",
              "      <td>After thirty years of marriage, a middle-aged ...</td>\n",
              "      <td>$ 30000000</td>\n",
              "      <td>$ 63536011</td>\n",
              "      <td>$ 114281051</td>\n",
              "    </tr>\n",
              "    <tr>\n",
              "      <th>9999</th>\n",
              "      <td>9999</td>\n",
              "      <td>Rapid Fear</td>\n",
              "      <td>Rapid Fear</td>\n",
              "      <td>2004</td>\n",
              "      <td>2004</td>\n",
              "      <td>Thriller</td>\n",
              "      <td>94</td>\n",
              "      <td>Australia</td>\n",
              "      <td>English</td>\n",
              "      <td>Geoff Cox</td>\n",
              "      <td>Wendy Pavey</td>\n",
              "      <td>Tempo Pictures</td>\n",
              "      <td>Steven Grives, Peter Kent, Craig Marriott, Dra...</td>\n",
              "      <td>Six teenage criminals and a hardened, recently...</td>\n",
              "      <td>AUD 1000000</td>\n",
              "      <td>NaN</td>\n",
              "      <td>NaN</td>\n",
              "    </tr>\n",
              "  </tbody>\n",
              "</table>\n",
              "<p>10000 rows × 17 columns</p>\n",
              "</div>"
            ],
            "text/plain": [
              "      movie_id                     title  ... usa_gross_income  worlwide_gross_income\n",
              "0            0                   Familia  ...              NaN                 $ 2365\n",
              "1            1                   Macondo  ...              NaN                $ 46300\n",
              "2            2           Miles from Home  ...              NaN                    NaN\n",
              "3            3           Maz swojej zony  ...              NaN                    NaN\n",
              "4            4           Marutai no onna  ...              NaN                    NaN\n",
              "...        ...                       ...  ...              ...                    ...\n",
              "9995      9995                The Unseen  ...              NaN                    NaN\n",
              "9996      9996                 Duplicity  ...       $ 40572825             $ 78176181\n",
              "9997      9997                    Mektup  ...              NaN                    NaN\n",
              "9998      9998  Il matrimonio che vorrei  ...       $ 63536011            $ 114281051\n",
              "9999      9999                Rapid Fear  ...              NaN                    NaN\n",
              "\n",
              "[10000 rows x 17 columns]"
            ]
          },
          "metadata": {
            "tags": []
          },
          "execution_count": 471
        }
      ]
    },
    {
      "cell_type": "code",
      "metadata": {
        "id": "aZWa7L9I40rw",
        "colab": {
          "base_uri": "https://localhost:8080/",
          "height": 419
        },
        "outputId": "cd26b754-47f3-4658-de1a-0e90e6819bc8"
      },
      "source": [
        "X_test = test[['year', 'duration', 'budget']]\n",
        "X_test"
      ],
      "execution_count": null,
      "outputs": [
        {
          "output_type": "execute_result",
          "data": {
            "text/html": [
              "<div>\n",
              "<style scoped>\n",
              "    .dataframe tbody tr th:only-of-type {\n",
              "        vertical-align: middle;\n",
              "    }\n",
              "\n",
              "    .dataframe tbody tr th {\n",
              "        vertical-align: top;\n",
              "    }\n",
              "\n",
              "    .dataframe thead th {\n",
              "        text-align: right;\n",
              "    }\n",
              "</style>\n",
              "<table border=\"1\" class=\"dataframe\">\n",
              "  <thead>\n",
              "    <tr style=\"text-align: right;\">\n",
              "      <th></th>\n",
              "      <th>year</th>\n",
              "      <th>duration</th>\n",
              "      <th>budget</th>\n",
              "    </tr>\n",
              "  </thead>\n",
              "  <tbody>\n",
              "    <tr>\n",
              "      <th>0</th>\n",
              "      <td>2005</td>\n",
              "      <td>102</td>\n",
              "      <td>NaN</td>\n",
              "    </tr>\n",
              "    <tr>\n",
              "      <th>1</th>\n",
              "      <td>2014</td>\n",
              "      <td>98</td>\n",
              "      <td>NaN</td>\n",
              "    </tr>\n",
              "    <tr>\n",
              "      <th>2</th>\n",
              "      <td>2006</td>\n",
              "      <td>97</td>\n",
              "      <td>NaN</td>\n",
              "    </tr>\n",
              "    <tr>\n",
              "      <th>3</th>\n",
              "      <td>1961</td>\n",
              "      <td>94</td>\n",
              "      <td>NaN</td>\n",
              "    </tr>\n",
              "    <tr>\n",
              "      <th>4</th>\n",
              "      <td>1997</td>\n",
              "      <td>131</td>\n",
              "      <td>NaN</td>\n",
              "    </tr>\n",
              "    <tr>\n",
              "      <th>...</th>\n",
              "      <td>...</td>\n",
              "      <td>...</td>\n",
              "      <td>...</td>\n",
              "    </tr>\n",
              "    <tr>\n",
              "      <th>9995</th>\n",
              "      <td>2005</td>\n",
              "      <td>99</td>\n",
              "      <td>NaN</td>\n",
              "    </tr>\n",
              "    <tr>\n",
              "      <th>9996</th>\n",
              "      <td>2009</td>\n",
              "      <td>125</td>\n",
              "      <td>$ 60000000</td>\n",
              "    </tr>\n",
              "    <tr>\n",
              "      <th>9997</th>\n",
              "      <td>1997</td>\n",
              "      <td>100</td>\n",
              "      <td>NaN</td>\n",
              "    </tr>\n",
              "    <tr>\n",
              "      <th>9998</th>\n",
              "      <td>2012</td>\n",
              "      <td>100</td>\n",
              "      <td>$ 30000000</td>\n",
              "    </tr>\n",
              "    <tr>\n",
              "      <th>9999</th>\n",
              "      <td>2004</td>\n",
              "      <td>94</td>\n",
              "      <td>AUD 1000000</td>\n",
              "    </tr>\n",
              "  </tbody>\n",
              "</table>\n",
              "<p>10000 rows × 3 columns</p>\n",
              "</div>"
            ],
            "text/plain": [
              "      year  duration       budget\n",
              "0     2005       102          NaN\n",
              "1     2014        98          NaN\n",
              "2     2006        97          NaN\n",
              "3     1961        94          NaN\n",
              "4     1997       131          NaN\n",
              "...    ...       ...          ...\n",
              "9995  2005        99          NaN\n",
              "9996  2009       125   $ 60000000\n",
              "9997  1997       100          NaN\n",
              "9998  2012       100   $ 30000000\n",
              "9999  2004        94  AUD 1000000\n",
              "\n",
              "[10000 rows x 3 columns]"
            ]
          },
          "metadata": {
            "tags": []
          },
          "execution_count": 472
        }
      ]
    },
    {
      "cell_type": "code",
      "metadata": {
        "colab": {
          "base_uri": "https://localhost:8080/"
        },
        "id": "FJn0TX_3irzA",
        "outputId": "bb2f136a-a7b4-48bf-bdf0-e0455b6c7788"
      },
      "source": [
        "X_test['budget'] = X_test['budget'].str.replace('$', '')"
      ],
      "execution_count": null,
      "outputs": [
        {
          "output_type": "stream",
          "text": [
            "/usr/local/lib/python3.7/dist-packages/ipykernel_launcher.py:1: SettingWithCopyWarning: \n",
            "A value is trying to be set on a copy of a slice from a DataFrame.\n",
            "Try using .loc[row_indexer,col_indexer] = value instead\n",
            "\n",
            "See the caveats in the documentation: https://pandas.pydata.org/pandas-docs/stable/user_guide/indexing.html#returning-a-view-versus-a-copy\n",
            "  \"\"\"Entry point for launching an IPython kernel.\n"
          ],
          "name": "stderr"
        }
      ]
    },
    {
      "cell_type": "code",
      "metadata": {
        "colab": {
          "base_uri": "https://localhost:8080/",
          "height": 546
        },
        "id": "UC1RQxVmi557",
        "outputId": "2b5896ee-f9df-4881-f851-71f79bf22eea"
      },
      "source": [
        "X_test['budget'] = pd.to_numeric(X_test['budget'], errors='coerce')\n",
        "X_test"
      ],
      "execution_count": null,
      "outputs": [
        {
          "output_type": "stream",
          "text": [
            "/usr/local/lib/python3.7/dist-packages/ipykernel_launcher.py:1: SettingWithCopyWarning: \n",
            "A value is trying to be set on a copy of a slice from a DataFrame.\n",
            "Try using .loc[row_indexer,col_indexer] = value instead\n",
            "\n",
            "See the caveats in the documentation: https://pandas.pydata.org/pandas-docs/stable/user_guide/indexing.html#returning-a-view-versus-a-copy\n",
            "  \"\"\"Entry point for launching an IPython kernel.\n"
          ],
          "name": "stderr"
        },
        {
          "output_type": "execute_result",
          "data": {
            "text/html": [
              "<div>\n",
              "<style scoped>\n",
              "    .dataframe tbody tr th:only-of-type {\n",
              "        vertical-align: middle;\n",
              "    }\n",
              "\n",
              "    .dataframe tbody tr th {\n",
              "        vertical-align: top;\n",
              "    }\n",
              "\n",
              "    .dataframe thead th {\n",
              "        text-align: right;\n",
              "    }\n",
              "</style>\n",
              "<table border=\"1\" class=\"dataframe\">\n",
              "  <thead>\n",
              "    <tr style=\"text-align: right;\">\n",
              "      <th></th>\n",
              "      <th>year</th>\n",
              "      <th>duration</th>\n",
              "      <th>budget</th>\n",
              "    </tr>\n",
              "  </thead>\n",
              "  <tbody>\n",
              "    <tr>\n",
              "      <th>0</th>\n",
              "      <td>2005</td>\n",
              "      <td>102</td>\n",
              "      <td>NaN</td>\n",
              "    </tr>\n",
              "    <tr>\n",
              "      <th>1</th>\n",
              "      <td>2014</td>\n",
              "      <td>98</td>\n",
              "      <td>NaN</td>\n",
              "    </tr>\n",
              "    <tr>\n",
              "      <th>2</th>\n",
              "      <td>2006</td>\n",
              "      <td>97</td>\n",
              "      <td>NaN</td>\n",
              "    </tr>\n",
              "    <tr>\n",
              "      <th>3</th>\n",
              "      <td>1961</td>\n",
              "      <td>94</td>\n",
              "      <td>NaN</td>\n",
              "    </tr>\n",
              "    <tr>\n",
              "      <th>4</th>\n",
              "      <td>1997</td>\n",
              "      <td>131</td>\n",
              "      <td>NaN</td>\n",
              "    </tr>\n",
              "    <tr>\n",
              "      <th>...</th>\n",
              "      <td>...</td>\n",
              "      <td>...</td>\n",
              "      <td>...</td>\n",
              "    </tr>\n",
              "    <tr>\n",
              "      <th>9995</th>\n",
              "      <td>2005</td>\n",
              "      <td>99</td>\n",
              "      <td>NaN</td>\n",
              "    </tr>\n",
              "    <tr>\n",
              "      <th>9996</th>\n",
              "      <td>2009</td>\n",
              "      <td>125</td>\n",
              "      <td>60000000.0</td>\n",
              "    </tr>\n",
              "    <tr>\n",
              "      <th>9997</th>\n",
              "      <td>1997</td>\n",
              "      <td>100</td>\n",
              "      <td>NaN</td>\n",
              "    </tr>\n",
              "    <tr>\n",
              "      <th>9998</th>\n",
              "      <td>2012</td>\n",
              "      <td>100</td>\n",
              "      <td>30000000.0</td>\n",
              "    </tr>\n",
              "    <tr>\n",
              "      <th>9999</th>\n",
              "      <td>2004</td>\n",
              "      <td>94</td>\n",
              "      <td>NaN</td>\n",
              "    </tr>\n",
              "  </tbody>\n",
              "</table>\n",
              "<p>10000 rows × 3 columns</p>\n",
              "</div>"
            ],
            "text/plain": [
              "      year  duration      budget\n",
              "0     2005       102         NaN\n",
              "1     2014        98         NaN\n",
              "2     2006        97         NaN\n",
              "3     1961        94         NaN\n",
              "4     1997       131         NaN\n",
              "...    ...       ...         ...\n",
              "9995  2005        99         NaN\n",
              "9996  2009       125  60000000.0\n",
              "9997  1997       100         NaN\n",
              "9998  2012       100  30000000.0\n",
              "9999  2004        94         NaN\n",
              "\n",
              "[10000 rows x 3 columns]"
            ]
          },
          "metadata": {
            "tags": []
          },
          "execution_count": 474
        }
      ]
    },
    {
      "cell_type": "code",
      "metadata": {
        "id": "TiIn5txmkdgY"
      },
      "source": [
        "test_miss_val1 = X_test.copy()"
      ],
      "execution_count": null,
      "outputs": []
    },
    {
      "cell_type": "code",
      "metadata": {
        "colab": {
          "base_uri": "https://localhost:8080/"
        },
        "id": "oCi3nm34lY3j",
        "outputId": "63514dfc-4e81-4c80-ec04-a4273a6b6276"
      },
      "source": [
        "rating_mean = test_miss_val1['budget'].mean()\n",
        "rating_mean"
      ],
      "execution_count": null,
      "outputs": [
        {
          "output_type": "execute_result",
          "data": {
            "text/plain": [
              "13124227.588205129"
            ]
          },
          "metadata": {
            "tags": []
          },
          "execution_count": 476
        }
      ]
    },
    {
      "cell_type": "code",
      "metadata": {
        "id": "8qtN0ipDlrIn"
      },
      "source": [
        "test_miss_val1['budget'].fillna(rating_mean, inplace=True)"
      ],
      "execution_count": null,
      "outputs": []
    },
    {
      "cell_type": "code",
      "metadata": {
        "id": "QdHZUnTEjG7Y"
      },
      "source": [
        "#X_test = test.dropna(subset=['budget'])\n",
        "#X_test"
      ],
      "execution_count": null,
      "outputs": []
    },
    {
      "cell_type": "code",
      "metadata": {
        "id": "Yu8qzzZq7oXO"
      },
      "source": [
        "y_predict = clf.predict(test_miss_val1)"
      ],
      "execution_count": null,
      "outputs": []
    },
    {
      "cell_type": "code",
      "metadata": {
        "id": "yIwtprqJ7ss_",
        "colab": {
          "base_uri": "https://localhost:8080/"
        },
        "outputId": "8f1c9938-dcc0-457c-dd39-a196d522d9c5"
      },
      "source": [
        "y_predict"
      ],
      "execution_count": null,
      "outputs": [
        {
          "output_type": "execute_result",
          "data": {
            "text/plain": [
              "array(['popular', 'popular', 'popular', ..., 'popular', 'popular',\n",
              "       'popular'], dtype=object)"
            ]
          },
          "metadata": {
            "tags": []
          },
          "execution_count": 481
        }
      ]
    },
    {
      "cell_type": "code",
      "metadata": {
        "id": "KMSu3-0y8VxE",
        "colab": {
          "base_uri": "https://localhost:8080/",
          "height": 419
        },
        "outputId": "1c144604-7dcc-4fa3-9a65-056054aabe9c"
      },
      "source": [
        "test_predict = pd.DataFrame({'movie_id': test['movie_id'], 'popularity' : y_predict})\n",
        "test_predict"
      ],
      "execution_count": null,
      "outputs": [
        {
          "output_type": "execute_result",
          "data": {
            "text/html": [
              "<div>\n",
              "<style scoped>\n",
              "    .dataframe tbody tr th:only-of-type {\n",
              "        vertical-align: middle;\n",
              "    }\n",
              "\n",
              "    .dataframe tbody tr th {\n",
              "        vertical-align: top;\n",
              "    }\n",
              "\n",
              "    .dataframe thead th {\n",
              "        text-align: right;\n",
              "    }\n",
              "</style>\n",
              "<table border=\"1\" class=\"dataframe\">\n",
              "  <thead>\n",
              "    <tr style=\"text-align: right;\">\n",
              "      <th></th>\n",
              "      <th>movie_id</th>\n",
              "      <th>popularity</th>\n",
              "    </tr>\n",
              "  </thead>\n",
              "  <tbody>\n",
              "    <tr>\n",
              "      <th>0</th>\n",
              "      <td>0</td>\n",
              "      <td>popular</td>\n",
              "    </tr>\n",
              "    <tr>\n",
              "      <th>1</th>\n",
              "      <td>1</td>\n",
              "      <td>popular</td>\n",
              "    </tr>\n",
              "    <tr>\n",
              "      <th>2</th>\n",
              "      <td>2</td>\n",
              "      <td>popular</td>\n",
              "    </tr>\n",
              "    <tr>\n",
              "      <th>3</th>\n",
              "      <td>3</td>\n",
              "      <td>popular</td>\n",
              "    </tr>\n",
              "    <tr>\n",
              "      <th>4</th>\n",
              "      <td>4</td>\n",
              "      <td>popular</td>\n",
              "    </tr>\n",
              "    <tr>\n",
              "      <th>...</th>\n",
              "      <td>...</td>\n",
              "      <td>...</td>\n",
              "    </tr>\n",
              "    <tr>\n",
              "      <th>9995</th>\n",
              "      <td>9995</td>\n",
              "      <td>popular</td>\n",
              "    </tr>\n",
              "    <tr>\n",
              "      <th>9996</th>\n",
              "      <td>9996</td>\n",
              "      <td>popular</td>\n",
              "    </tr>\n",
              "    <tr>\n",
              "      <th>9997</th>\n",
              "      <td>9997</td>\n",
              "      <td>popular</td>\n",
              "    </tr>\n",
              "    <tr>\n",
              "      <th>9998</th>\n",
              "      <td>9998</td>\n",
              "      <td>popular</td>\n",
              "    </tr>\n",
              "    <tr>\n",
              "      <th>9999</th>\n",
              "      <td>9999</td>\n",
              "      <td>popular</td>\n",
              "    </tr>\n",
              "  </tbody>\n",
              "</table>\n",
              "<p>10000 rows × 2 columns</p>\n",
              "</div>"
            ],
            "text/plain": [
              "      movie_id popularity\n",
              "0            0    popular\n",
              "1            1    popular\n",
              "2            2    popular\n",
              "3            3    popular\n",
              "4            4    popular\n",
              "...        ...        ...\n",
              "9995      9995    popular\n",
              "9996      9996    popular\n",
              "9997      9997    popular\n",
              "9998      9998    popular\n",
              "9999      9999    popular\n",
              "\n",
              "[10000 rows x 2 columns]"
            ]
          },
          "metadata": {
            "tags": []
          },
          "execution_count": 482
        }
      ]
    },
    {
      "cell_type": "code",
      "metadata": {
        "id": "HKFuJQ2R8_9F"
      },
      "source": [
        "test_predict.to_csv('IMDb_movies_predict.csv', index = False)"
      ],
      "execution_count": null,
      "outputs": []
    }
  ]
}